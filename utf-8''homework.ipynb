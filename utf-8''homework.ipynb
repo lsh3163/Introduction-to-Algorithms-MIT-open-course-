{
  "cells": [
    {
      "metadata": {
        "collapsed": true
      },
      "cell_type": "markdown",
      "source": "# Homework set 1\n## Problem2\n### 1. Functions to compute Fibonacci number\n* Iterative approaches"
    },
    {
      "metadata": {
        "trusted": true
      },
      "cell_type": "code",
      "source": "def fib_it(n):\n    fib_list = [0] * (n+1)\n    fib_list[0] = 0\n    fib_list[1] = 1\n    for i in range(2,n+1):\n        fib_list[i] = fib_list[i-1] + fib_list[i-2]\n    return fib_list[n]",
      "execution_count": 2,
      "outputs": []
    },
    {
      "metadata": {},
      "cell_type": "markdown",
      "source": "* Recursive approaches"
    },
    {
      "metadata": {
        "trusted": true
      },
      "cell_type": "code",
      "source": "def fib_re(n):\n    if n==0 or n==1:\n        return n\n    return fib_re(n-1) + fib_re(n-2)",
      "execution_count": 3,
      "outputs": []
    },
    {
      "metadata": {},
      "cell_type": "markdown",
      "source": "### 2. Time Comparision"
    },
    {
      "metadata": {
        "trusted": true
      },
      "cell_type": "code",
      "source": "import time\n# Define functions to compare iterative, recursive version of Fibonacci\ndef time_compare(n):\n    start_time = time.time()\n    print(\"iteration : {}, time : {}sec\\n\".format(fib_it(n), time.time()-start_time))\n    start_time = time.time()\n    print(\"Recursive : {}, time : {}sec\".format(fib_re(n), time.time()-start_time))\ntime_compare(30)",
      "execution_count": 4,
      "outputs": [
        {
          "output_type": "stream",
          "text": "iteration : 832040, time : 1.621246337890625e-05sec\n\nRecursive : 832040, time : 1.1017537117004395sec\n",
          "name": "stdout"
        }
      ]
    },
    {
      "metadata": {},
      "cell_type": "markdown",
      "source": "### 3. Discussion\n#### Which one is fast? Can you discuss why?\n* Recursion can be slower than iteration in Fibonacci problem. The function fib_re must compute two values by one node but fib_it compute one value by one iterator."
    },
    {
      "metadata": {},
      "cell_type": "markdown",
      "source": "#### Can you propose a way to improve the slow approach?\n* Optimized version of fib_re is possible if we ignore the visited node."
    },
    {
      "metadata": {
        "trusted": true
      },
      "cell_type": "code",
      "source": "def memoize(fn, arg):\n memo = {}\n if arg not in memo:\n  memo[arg] = fn(arg)\n  return memo[arg]\nfibnumber = memoize(fib_re, 10)\nprint(fibnumber)",
      "execution_count": 5,
      "outputs": [
        {
          "output_type": "stream",
          "text": "55\n",
          "name": "stdout"
        }
      ]
    },
    {
      "metadata": {},
      "cell_type": "markdown",
      "source": "* Compare the time optimized version and iterative version."
    },
    {
      "metadata": {
        "trusted": true
      },
      "cell_type": "code",
      "source": "import time\n# Define functions to compare iterative, recursive version of Fibonacci\ndef time_compare(n):\n    start_time = time.time()\n    print(\"iteration : {}, time : {}sec\\n\".format(fib_it(n), time.time()-start_time))\n    start_time = time.time()\n    print(\"Optimized : {}, time : {}sec\".format(memoize(fib_re, n), time.time()-start_time))\ntime_compare(30)",
      "execution_count": 6,
      "outputs": [
        {
          "output_type": "stream",
          "text": "iteration : 832040, time : 1.6450881958007812e-05sec\n\nOptimized : 832040, time : 1.1250360012054443sec\n",
          "name": "stdout"
        }
      ]
    },
    {
      "metadata": {},
      "cell_type": "markdown",
      "source": "## Problem 3\n* arctan(1) = pi / 4"
    },
    {
      "metadata": {
        "trusted": true
      },
      "cell_type": "code",
      "source": "import math\npi = math.pi\n# x^n 을 return\ndef power(x, n):\n    return x**n\n# taylor x^n / n을 return\ndef taylor(x, n):\n    return power(x, n) / n\n# 오차가 epsilon 이하가 될 때까지 반복문 수행\ndef compute_pi():\n    x = 1\n    cnt = 1\n    answer = 0\n    epsilon = 0.001\n    # arctan(1) = pi/4 이므로 answer * 4 - pi값이 오차\n    while abs(answer*4 - pi) > epsilon:\n        # print(answer * 4)\n        answer = answer + taylor(x, 2 * cnt - 1) * power(-1, cnt+1)\n        cnt = cnt + 1\n    print(\"The approximate value is: {}\\n\".format(answer*4))\n    print(\"A number of {} terms are used.\".format(answer*4))\ncompute_pi()",
      "execution_count": 7,
      "outputs": [
        {
          "output_type": "stream",
          "text": "The approximate value is: 3.140592653839794\n\nA number of 3.140592653839794 terms are used.\n",
          "name": "stdout"
        }
      ]
    },
    {
      "metadata": {},
      "cell_type": "markdown",
      "source": "## Problem 4\n* Define the function return nst prime number using erathos algorithm"
    },
    {
      "metadata": {
        "trusted": true
      },
      "cell_type": "code",
      "source": "def is_prime(n):\n    number = 2\n    prime_set = [2]\n    ox = []\n    while len(prime_set) < n:\n        number = number + 1\n        for i in prime_set:\n            ox.append(number%i)\n            if number % i == 0:\n                break\n        if 0 in ox:\n            ox = []\n            continue\n        else:\n            prime_set.append(number)\n    return prime_set[n-1]\nis_prime(2018)",
      "execution_count": 8,
      "outputs": [
        {
          "output_type": "execute_result",
          "execution_count": 8,
          "data": {
            "text/plain": "17551"
          },
          "metadata": {}
        }
      ]
    },
    {
      "metadata": {},
      "cell_type": "markdown",
      "source": "## Problem 5\n### a. Trial and error approach"
    },
    {
      "metadata": {
        "trusted": true
      },
      "cell_type": "code",
      "source": "from math import sin\nimport math\ndef power(x, n):\n    return x**n\ndef return_distance():\n    theta = input('degree: ')\n    theta = float(theta)\n    # Conver Degree to Radian\n    theta = 2 * theta\n    theta = (theta / 180) * math.pi\n    gacc = 10\n    # print(power(1000/60.0, 2))\n    d = math.sin(theta) * (power(1000 / 60.0, 4) / (gacc)) \n    return d\nreturn_distance()",
      "execution_count": 9,
      "outputs": [
        {
          "output_type": "stream",
          "name": "stdout",
          "text": "degree: 30\n"
        },
        {
          "output_type": "execute_result",
          "execution_count": 9,
          "data": {
            "text/plain": "6682.294782287337"
          },
          "metadata": {}
        }
      ]
    },
    {
      "metadata": {},
      "cell_type": "markdown",
      "source": "### b. Modification 1"
    },
    {
      "metadata": {
        "trusted": true
      },
      "cell_type": "code",
      "source": "from math import sin\nimport math\ndef power(x, n):\n    return x**n\ndef return_distance():\n    # meter\n    R = 5000\n    theta = input('degree: ')\n    theta = float(theta)\n    # Conver Degree to Radian\n    theta = 2 * theta\n    theta = (theta / 180) * math.pi\n    gacc = 10\n    d = math.sin(theta) * (power(1000 / 60.0, 4) / (gacc)) \n    if d < R:\n        print(\"shoot long\")\n    elif d > R:\n        print(\"shoot short\")\n    return d\nreturn_distance()",
      "execution_count": 10,
      "outputs": [
        {
          "output_type": "stream",
          "name": "stdout",
          "text": "degree: 1\nshoot long\n"
        },
        {
          "output_type": "execute_result",
          "execution_count": 10,
          "data": {
            "text/plain": "269.28623998843346"
          },
          "metadata": {}
        }
      ]
    },
    {
      "metadata": {},
      "cell_type": "markdown",
      "source": "### c. Modification 2"
    },
    {
      "metadata": {
        "trusted": true
      },
      "cell_type": "code",
      "source": "from math import sin\nimport math\ndef power(x, n):\n    return x**n\ndef return_distance():\n    # meter\n    R = 5000\n    d = -R\n    while abs(R-d) / R > 0.01:\n        # print(\"|R-d|/R: {}\\n\".format(abs(R-d)/R))\n        theta = input('degree: ')\n        theta = float(theta)\n        # Conver Degree to Radian\n        theta = 2 * theta\n        theta = (theta / 180) * math.pi\n        gacc = 10\n        d = math.sin(theta) * (power(1000 / 60.0, 4) / (gacc)) \n        if d < R:\n            print(\"shoot long\")\n        elif d > R:\n            print(\"shoot short\")\n    return d\nreturn_distance()",
      "execution_count": 11,
      "outputs": [
        {
          "output_type": "stream",
          "name": "stdout",
          "text": "degree: 20\nshoot long\n"
        },
        {
          "output_type": "execute_result",
          "execution_count": 11,
          "data": {
            "text/plain": "4959.780938939348"
          },
          "metadata": {}
        }
      ]
    },
    {
      "metadata": {},
      "cell_type": "markdown",
      "source": "* Degree 20 can be final value of theta"
    },
    {
      "metadata": {},
      "cell_type": "markdown",
      "source": "### d. Modification 3."
    },
    {
      "metadata": {
        "trusted": true
      },
      "cell_type": "code",
      "source": "#### from math import sin\nimport math\ndef power(x, n):\n    return x**n\ndef return_distance():\n    # meter\n    R = 5000\n    d = -R\n    cnt = 0\n    while True:\n        if cnt == 10:\n            print(\"You miss the target too many times.\")\n            break\n        # print(\"|R-d|/R: {}\\n\".format(abs(R-d)/R))\n        theta = input('degree: ')\n        theta = float(theta)\n        # Conver Degree to Radian\n        theta = 2 * theta\n        theta = (theta / 180) * math.pi\n        gacc = 10\n        d = math.sin(theta) * (power(1000 / 60.0, 4) / (gacc)) \n        if abs(R-d) / R < 0.01:\n            print(\"You hit the target within 1% error!!! Congratulation!!!\")\n            break\n        if d < R:\n            print(\"shoot long\")\n        elif d > R:\n            print(\"shoot short\")\n        cnt = cnt + 1\n    return d\nreturn_distance()",
      "execution_count": 12,
      "outputs": [
        {
          "output_type": "stream",
          "name": "stdout",
          "text": "degree: 20\nYou hit the target within 1% error!!! Congratulation!!!\n"
        },
        {
          "output_type": "execute_result",
          "execution_count": 12,
          "data": {
            "text/plain": "4959.780938939348"
          },
          "metadata": {}
        }
      ]
    },
    {
      "metadata": {},
      "cell_type": "markdown",
      "source": "### e. Newton's method"
    },
    {
      "metadata": {
        "trusted": true
      },
      "cell_type": "code",
      "source": "#### from math import sin\nimport math\ndef power(x, n):\n    return x**n\ndef return_distance():\n    # meter\n    R = 5000\n    d = -R\n    cnt = 0\n    min_theta = 0.0\n    max_theta = 45.0\n    gacc = 10\n    while True:\n        # Conver Degree to Radian\n        med_theta = (min_theta + max_theta) / 2\n        theta = 2 * med_theta\n        theta = (theta / 180) * math.pi\n        d = math.sin(theta) * (power(1000 / 60.0, 4) / (gacc))\n        print(\"Distance : {}\\n\".format(d))\n        if abs(R-d) / R < 0.01:\n            print(\"You hit the target within 1% error!!! Congratulation!!!\")\n            break\n        if d < R:\n            min_theta = med_theta\n            print(\"shoot long\")\n        elif d > R:\n            max_theta = med_theta\n            print(\"shoot short\")\n    return d\nreturn_distance()",
      "execution_count": 13,
      "outputs": [
        {
          "output_type": "stream",
          "text": "Distance : 5456.0708424887935\n\nshoot short\nDistance : 2952.804262076311\n\nshoot long\nDistance : 4286.8073535463145\n\nshoot long\nDistance : 4895.009908670106\n\nshoot long\nDistance : 5181.782059004772\n\nshoot short\nDistance : 5039.913911680378\n\nYou hit the target within 1% error!!! Congratulation!!!\n",
          "name": "stdout"
        },
        {
          "output_type": "execute_result",
          "execution_count": 13,
          "data": {
            "text/plain": "5039.913911680378"
          },
          "metadata": {}
        }
      ]
    }
  ],
  "metadata": {
    "kernelspec": {
      "name": "python36",
      "display_name": "Python 3.6",
      "language": "python"
    },
    "language_info": {
      "mimetype": "text/x-python",
      "nbconvert_exporter": "python",
      "name": "python",
      "pygments_lexer": "ipython3",
      "version": "3.6.6",
      "file_extension": ".py",
      "codemirror_mode": {
        "version": 3,
        "name": "ipython"
      }
    }
  },
  "nbformat": 4,
  "nbformat_minor": 2
}